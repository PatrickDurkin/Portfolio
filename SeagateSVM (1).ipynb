{
  "nbformat": 4,
  "nbformat_minor": 0,
  "metadata": {
    "colab": {
      "name": "SeagateSVM.ipynb",
      "provenance": []
    },
    "kernelspec": {
      "display_name": "Python 3",
      "language": "python",
      "name": "python3"
    },
    "language_info": {
      "codemirror_mode": {
        "name": "ipython",
        "version": 3
      },
      "file_extension": ".py",
      "mimetype": "text/x-python",
      "name": "python",
      "nbconvert_exporter": "python",
      "pygments_lexer": "ipython3",
      "version": "3.7.3"
    }
  },
  "cells": [
    {
      "cell_type": "code",
      "metadata": {
        "id": "lR37w_R685NN",
        "colab": {
          "base_uri": "https://localhost:8080/",
          "height": 34
        },
        "outputId": "6e55d429-3fdb-4f8a-8b07-301954bd5eaf"
      },
      "source": [
        "from google.colab import drive\n",
        "drive.mount('/content/drive')"
      ],
      "execution_count": null,
      "outputs": [
        {
          "output_type": "stream",
          "text": [
            "Drive already mounted at /content/drive; to attempt to forcibly remount, call drive.mount(\"/content/drive\", force_remount=True).\n"
          ],
          "name": "stdout"
        }
      ]
    },
    {
      "cell_type": "markdown",
      "metadata": {
        "id": "KxUdHQYiSrzz"
      },
      "source": [
        "#PCA, Resampling, and Random Forest"
      ]
    },
    {
      "cell_type": "code",
      "metadata": {
        "id": "fT_cz-Mk9-6K"
      },
      "source": [
        "import pandas as pd\n",
        "csvfile = '/content/drive/My Drive/Colab Notebooks/Seagate-4.24.2.csv'\n",
        "df = pd.read_csv(csvfile, encoding='latin1')"
      ],
      "execution_count": null,
      "outputs": []
    },
    {
      "cell_type": "code",
      "metadata": {
        "id": "T_Zvbh4dSwS9"
      },
      "source": [
        "df2 = df[['mtrprm3_parameter4','mtrprm9_parameter2','mtrprm11_parameter1','mtrprm19_parameter1','mtrprm20_parameter2','mtrprm21_parameter2','mtrprm24_parameter4',\n",
        "   'hkpinp2_parameter1','hkpinp4_parameter18','Target','drive_interface','drive_product_group','motor_vend_id','run_type']]"
      ],
      "execution_count": null,
      "outputs": []
    },
    {
      "cell_type": "code",
      "metadata": {
        "id": "QGqCJ-XFiu5f"
      },
      "source": [
        "df2 = pd.get_dummies(df2, columns=['drive_product_group'], prefix = ['drive_product_group'])\n",
        "\n",
        "df2 = pd.get_dummies(df2, columns=['drive_interface'], prefix = ['drive_interface'])\n",
        "\n",
        "df2 = pd.get_dummies(df2, columns=['motor_vend_id'], prefix = ['motor_vend_id'])\n",
        "\n",
        "df2 = pd.get_dummies(df2, columns=['run_type'], prefix = ['run_type'])"
      ],
      "execution_count": null,
      "outputs": []
    },
    {
      "cell_type": "markdown",
      "metadata": {
        "id": "tyQ-WvIGE9l2"
      },
      "source": [
        "hkpinp4_parameter18': 0.13724996480483434, 'hkpinp2_parameter1': 0.13001423837115028, 'mtrprm19_parameter1': 0.12530402567772822, 'mtrprm9_parameter2': 0.12457584504842446, 'mtrprm11_parameter1': 0.12412212664851024,"
      ]
    },
    {
      "cell_type": "code",
      "metadata": {
        "id": "uHn6TCDJH98q",
        "colab": {
          "base_uri": "https://localhost:8080/",
          "height": 71
        },
        "outputId": "6d1e71f2-8b3f-41e3-fb90-84423d765209"
      },
      "source": [
        "import os\n",
        "import pandas as pd\n",
        "import numpy as np\n",
        "import matplotlib.pyplot as plt\n",
        "import seaborn as sns\n",
        "from random import sample\n",
        "from sklearn import tree\n",
        "from sklearn.ensemble import RandomForestClassifier\n",
        "from sklearn.model_selection import cross_val_score\n",
        "from sklearn.svm import SVC\n",
        "from sklearn import metrics\n",
        "from IPython.display import Image  \n",
        "from pydotplus import graph_from_dot_data"
      ],
      "execution_count": null,
      "outputs": [
        {
          "output_type": "stream",
          "text": [
            "/usr/local/lib/python3.6/dist-packages/statsmodels/tools/_testing.py:19: FutureWarning: pandas.util.testing is deprecated. Use the functions in the public API at pandas.testing instead.\n",
            "  import pandas.util.testing as tm\n"
          ],
          "name": "stderr"
        }
      ]
    },
    {
      "cell_type": "code",
      "metadata": {
        "id": "6JWWzo8_S4FV"
      },
      "source": [
        "from sklearn.model_selection import train_test_split\n",
        "train,test = train_test_split(df2,test_size=0.3)"
      ],
      "execution_count": null,
      "outputs": []
    },
    {
      "cell_type": "code",
      "metadata": {
        "id": "yD8vdwA3TEfF"
      },
      "source": [
        "# Separate target and predictors\n",
        "y_train = train['Target']\n",
        "x_train = train.drop(['Target'], axis=1)\n",
        "y_test = test['Target']\n",
        "x_test = test.drop(['Target'], axis=1)\n",
        "#y_validate = validate['Target']\n",
        "#x_validate = validate.drop(['Target'], axis=1)\n",
        "\n",
        "# Check the balance of the splits on y_"
      ],
      "execution_count": null,
      "outputs": []
    },
    {
      "cell_type": "code",
      "metadata": {
        "id": "bpfuqujCTltd"
      },
      "source": [
        "# Applying PCA function on training \n",
        "# and testing set of X component \n",
        "from sklearn.decomposition import PCA \n",
        "  \n",
        "pca = PCA(n_components = 5) \n",
        "  \n",
        "x_train = pca.fit_transform(x_train) \n",
        "x_test = pca.transform(x_test) \n",
        "  \n",
        "explained_variance = pca.explained_variance_ratio_"
      ],
      "execution_count": null,
      "outputs": []
    },
    {
      "cell_type": "code",
      "metadata": {
        "id": "0b80YaiF_VFy",
        "colab": {
          "base_uri": "https://localhost:8080/",
          "height": 105
        },
        "outputId": "9526d813-9c00-4f4c-fd09-78abe5abffe4"
      },
      "source": [
        "from imblearn.over_sampling import ADASYN\n",
        "from imblearn.under_sampling import EditedNearestNeighbours"
      ],
      "execution_count": null,
      "outputs": [
        {
          "output_type": "stream",
          "text": [
            "/usr/local/lib/python3.6/dist-packages/sklearn/externals/six.py:31: FutureWarning: The module is deprecated in version 0.21 and will be removed in version 0.23 since we've dropped support for Python 2.7. Please rely on the official version of six (https://pypi.org/project/six/).\n",
            "  \"(https://pypi.org/project/six/).\", FutureWarning)\n",
            "/usr/local/lib/python3.6/dist-packages/sklearn/utils/deprecation.py:144: FutureWarning: The sklearn.neighbors.base module is  deprecated in version 0.22 and will be removed in version 0.24. The corresponding classes / functions should instead be imported from sklearn.neighbors. Anything that cannot be imported from sklearn.neighbors is now part of the private API.\n",
            "  warnings.warn(message, FutureWarning)\n"
          ],
          "name": "stderr"
        }
      ]
    },
    {
      "cell_type": "code",
      "metadata": {
        "id": "pRAcY-bl_jxs",
        "colab": {
          "base_uri": "https://localhost:8080/",
          "height": 139
        },
        "outputId": "851c5d4a-b3a0-4128-c586-c3b5de16f73a"
      },
      "source": [
        "from imblearn.under_sampling import NearMiss \n",
        "nr = NearMiss() \n",
        "\n",
        "X_train_miss, y_train_miss = nr.fit_sample(x_train,y_train.ravel())"
      ],
      "execution_count": null,
      "outputs": [
        {
          "output_type": "stream",
          "text": [
            "/usr/local/lib/python3.6/dist-packages/sklearn/utils/deprecation.py:87: FutureWarning: Function safe_indexing is deprecated; safe_indexing is deprecated in version 0.22 and will be removed in version 0.24.\n",
            "  warnings.warn(msg, category=FutureWarning)\n",
            "/usr/local/lib/python3.6/dist-packages/sklearn/utils/deprecation.py:87: FutureWarning: Function safe_indexing is deprecated; safe_indexing is deprecated in version 0.22 and will be removed in version 0.24.\n",
            "  warnings.warn(msg, category=FutureWarning)\n",
            "/usr/local/lib/python3.6/dist-packages/sklearn/utils/deprecation.py:87: FutureWarning: Function safe_indexing is deprecated; safe_indexing is deprecated in version 0.22 and will be removed in version 0.24.\n",
            "  warnings.warn(msg, category=FutureWarning)\n"
          ],
          "name": "stderr"
        }
      ]
    },
    {
      "cell_type": "code",
      "metadata": {
        "id": "dTCKHr2N_b_e",
        "colab": {
          "base_uri": "https://localhost:8080/",
          "height": 88
        },
        "outputId": "8abb134e-72a5-44f5-de5e-d2c31e35b515"
      },
      "source": [
        "from collections import Counter\n",
        "ada = ADASYN(random_state=42)\n",
        "X_resampled, y_resampled = ada.fit_resample(x_train, y_train)\n",
        "print('Resampled dataset after ADASYN shape %s' % Counter(y_resampled))"
      ],
      "execution_count": null,
      "outputs": [
        {
          "output_type": "stream",
          "text": [
            "/usr/local/lib/python3.6/dist-packages/sklearn/utils/deprecation.py:87: FutureWarning: Function safe_indexing is deprecated; safe_indexing is deprecated in version 0.22 and will be removed in version 0.24.\n",
            "  warnings.warn(msg, category=FutureWarning)\n"
          ],
          "name": "stderr"
        },
        {
          "output_type": "stream",
          "text": [
            "Resampled dataset after ADASYN shape Counter({1: 196426, 0: 196173})\n"
          ],
          "name": "stdout"
        }
      ]
    },
    {
      "cell_type": "code",
      "metadata": {
        "id": "Ur8oo6xkKaE6",
        "colab": {
          "base_uri": "https://localhost:8080/",
          "height": 34
        },
        "outputId": "eaad4a93-9846-4782-df65-45cabada977b"
      },
      "source": [
        "y_test.sum()"
      ],
      "execution_count": null,
      "outputs": [
        {
          "output_type": "execute_result",
          "data": {
            "text/plain": [
              "716"
            ]
          },
          "metadata": {
            "tags": []
          },
          "execution_count": 14
        }
      ]
    },
    {
      "cell_type": "code",
      "metadata": {
        "id": "jL4If4Jo04_4"
      },
      "source": [
        "from sklearn.svm import SVC"
      ],
      "execution_count": null,
      "outputs": []
    },
    {
      "cell_type": "code",
      "metadata": {
        "id": "tQVutkxyUD_O",
        "colab": {
          "base_uri": "https://localhost:8080/",
          "height": 377
        },
        "outputId": "9e032915-fd64-43ca-d96b-9f41ea3d9e4b"
      },
      "source": [
        "# Instantiate\n",
        "svm = SVC(probability = True)\n",
        "# Fit\n",
        "svm_model = svm.fit(X_train_miss, y_train_miss)\n",
        "\n",
        "svm_model.score(X_train_miss, y_train_miss)\n",
        "\n",
        "# Predictions/probs on the test dataset\n",
        "predicted = pd.DataFrame(svm_model.predict(x_test))\n",
        "probs = pd.DataFrame(svm_model.predict_proba(x_test))\n",
        "\n",
        "# Store metrics\n",
        "svm_accuracy = metrics.accuracy_score(y_test, predicted)     \n",
        "svm_roc_auc = metrics.roc_auc_score(y_test, probs[1])       \n",
        "svm_confus_matrix = metrics.confusion_matrix(y_test, predicted) \n",
        "svm_classification_report = metrics.classification_report(y_test, predicted)\n",
        "svm_precision = metrics.precision_score(y_test, predicted, pos_label=1)\n",
        "svm_recall = metrics.recall_score(y_test, predicted, pos_label=1)\n",
        "svm_f1 = metrics.f1_score(y_test, predicted, pos_label=1)\n",
        "\n",
        "# Evaluate the model using 10-fold cross-validation \n",
        "svm_cv_scores = cross_val_score(SVC(), x_test, y_test, scoring='precision', cv=10)\n",
        "svm_cv_mean = np.mean(svm_cv_scores)"
      ],
      "execution_count": null,
      "outputs": [
        {
          "output_type": "stream",
          "text": [
            "/usr/local/lib/python3.6/dist-packages/sklearn/metrics/_classification.py:1272: UndefinedMetricWarning: Precision is ill-defined and being set to 0.0 due to no predicted samples. Use `zero_division` parameter to control this behavior.\n",
            "  _warn_prf(average, modifier, msg_start, len(result))\n",
            "/usr/local/lib/python3.6/dist-packages/sklearn/metrics/_classification.py:1272: UndefinedMetricWarning: Precision is ill-defined and being set to 0.0 due to no predicted samples. Use `zero_division` parameter to control this behavior.\n",
            "  _warn_prf(average, modifier, msg_start, len(result))\n",
            "/usr/local/lib/python3.6/dist-packages/sklearn/metrics/_classification.py:1272: UndefinedMetricWarning: Precision is ill-defined and being set to 0.0 due to no predicted samples. Use `zero_division` parameter to control this behavior.\n",
            "  _warn_prf(average, modifier, msg_start, len(result))\n",
            "/usr/local/lib/python3.6/dist-packages/sklearn/metrics/_classification.py:1272: UndefinedMetricWarning: Precision is ill-defined and being set to 0.0 due to no predicted samples. Use `zero_division` parameter to control this behavior.\n",
            "  _warn_prf(average, modifier, msg_start, len(result))\n",
            "/usr/local/lib/python3.6/dist-packages/sklearn/metrics/_classification.py:1272: UndefinedMetricWarning: Precision is ill-defined and being set to 0.0 due to no predicted samples. Use `zero_division` parameter to control this behavior.\n",
            "  _warn_prf(average, modifier, msg_start, len(result))\n",
            "/usr/local/lib/python3.6/dist-packages/sklearn/metrics/_classification.py:1272: UndefinedMetricWarning: Precision is ill-defined and being set to 0.0 due to no predicted samples. Use `zero_division` parameter to control this behavior.\n",
            "  _warn_prf(average, modifier, msg_start, len(result))\n",
            "/usr/local/lib/python3.6/dist-packages/sklearn/metrics/_classification.py:1272: UndefinedMetricWarning: Precision is ill-defined and being set to 0.0 due to no predicted samples. Use `zero_division` parameter to control this behavior.\n",
            "  _warn_prf(average, modifier, msg_start, len(result))\n",
            "/usr/local/lib/python3.6/dist-packages/sklearn/metrics/_classification.py:1272: UndefinedMetricWarning: Precision is ill-defined and being set to 0.0 due to no predicted samples. Use `zero_division` parameter to control this behavior.\n",
            "  _warn_prf(average, modifier, msg_start, len(result))\n",
            "/usr/local/lib/python3.6/dist-packages/sklearn/metrics/_classification.py:1272: UndefinedMetricWarning: Precision is ill-defined and being set to 0.0 due to no predicted samples. Use `zero_division` parameter to control this behavior.\n",
            "  _warn_prf(average, modifier, msg_start, len(result))\n",
            "/usr/local/lib/python3.6/dist-packages/sklearn/metrics/_classification.py:1272: UndefinedMetricWarning: Precision is ill-defined and being set to 0.0 due to no predicted samples. Use `zero_division` parameter to control this behavior.\n",
            "  _warn_prf(average, modifier, msg_start, len(result))\n"
          ],
          "name": "stderr"
        }
      ]
    },
    {
      "cell_type": "markdown",
      "metadata": {
        "id": "UVrPmzYfWcOV"
      },
      "source": [
        "rf_confus_matrix"
      ]
    },
    {
      "cell_type": "code",
      "metadata": {
        "id": "FHja959Cix9j",
        "colab": {
          "base_uri": "https://localhost:8080/",
          "height": 51
        },
        "outputId": "86090eb7-b16f-4c59-f763-c7161fb22418"
      },
      "source": [
        "svm_confus_matrix"
      ],
      "execution_count": null,
      "outputs": [
        {
          "output_type": "execute_result",
          "data": {
            "text/plain": [
              "array([[ 3781, 80331],\n",
              "       [   19,   697]])"
            ]
          },
          "metadata": {
            "tags": []
          },
          "execution_count": 17
        }
      ]
    },
    {
      "cell_type": "code",
      "metadata": {
        "id": "tAu3MavHjP-O",
        "colab": {
          "base_uri": "https://localhost:8080/",
          "height": 34
        },
        "outputId": "eaf1e7c9-952b-408c-c3b4-99d2f7562405"
      },
      "source": [
        "svm_accuracy"
      ],
      "execution_count": null,
      "outputs": [
        {
          "output_type": "execute_result",
          "data": {
            "text/plain": [
              "0.05278917338614608"
            ]
          },
          "metadata": {
            "tags": []
          },
          "execution_count": 18
        }
      ]
    },
    {
      "cell_type": "code",
      "metadata": {
        "id": "c1S2QtnMi5fK",
        "colab": {
          "base_uri": "https://localhost:8080/",
          "height": 34
        },
        "outputId": "202dd96f-5b8e-4100-bfed-8b806a9cccb2"
      },
      "source": [
        "svm_recall"
      ],
      "execution_count": null,
      "outputs": [
        {
          "output_type": "execute_result",
          "data": {
            "text/plain": [
              "0.973463687150838"
            ]
          },
          "metadata": {
            "tags": []
          },
          "execution_count": 19
        }
      ]
    },
    {
      "cell_type": "code",
      "metadata": {
        "id": "Y8EKCk-JWmJw",
        "colab": {
          "base_uri": "https://localhost:8080/",
          "height": 34
        },
        "outputId": "775a3e20-9332-42de-aa5c-6c79039c000c"
      },
      "source": [
        "svm_precision"
      ],
      "execution_count": null,
      "outputs": [
        {
          "output_type": "execute_result",
          "data": {
            "text/plain": [
              "0.008601964752924915"
            ]
          },
          "metadata": {
            "tags": []
          },
          "execution_count": 20
        }
      ]
    },
    {
      "cell_type": "code",
      "metadata": {
        "id": "4v5tfzxUj8yd"
      },
      "source": [
        "import pandas as pd\n",
        "import numpy as np\n",
        "from sklearn import preprocessing\n",
        "from sklearn.model_selection import GridSearchCV, RandomizedSearchCV \n",
        "from sklearn.svm import SVC as svc \n",
        "from sklearn.metrics import make_scorer, roc_auc_score\n",
        "from scipy import stats"
      ],
      "execution_count": null,
      "outputs": []
    },
    {
      "cell_type": "code",
      "metadata": {
        "id": "LoE-HgE7igDF"
      },
      "source": [
        "# RANDOM SEARCH FOR 20 COMBINATIONS OF PARAMETERS\n",
        "rand_list = {\"C\": stats.uniform(2, 10),\n",
        "             \"gamma\": stats.uniform(0.1, 1)}\n",
        "              \n",
        "rand_search = RandomizedSearchCV(svm_model, param_distributions = rand_list, n_iter = 20, n_jobs = 4, cv = 3) \n",
        "rand_search.fit(x_train, y_train) \n",
        "rand_search.cv_results_"
      ],
      "execution_count": null,
      "outputs": []
    },
    {
      "cell_type": "code",
      "metadata": {
        "id": "6bHruZGwL6Hm",
        "colab": {
          "base_uri": "https://localhost:8080/",
          "height": 51
        },
        "outputId": "99aae3f6-daa3-4e68-d18a-49f9649614fc"
      },
      "source": [
        "svm_confus_matrix"
      ],
      "execution_count": null,
      "outputs": [
        {
          "output_type": "execute_result",
          "data": {
            "text/plain": [
              "array([[ 3366, 80742],\n",
              "       [   15,   705]])"
            ]
          },
          "metadata": {
            "tags": []
          },
          "execution_count": 21
        }
      ]
    },
    {
      "cell_type": "code",
      "metadata": {
        "id": "9EhzwQQcL9wn",
        "colab": {
          "base_uri": "https://localhost:8080/",
          "height": 34
        },
        "outputId": "10a83fc3-24f0-413f-deb7-cb5135c3d9b2"
      },
      "source": [
        "svm_precision"
      ],
      "execution_count": null,
      "outputs": [
        {
          "output_type": "execute_result",
          "data": {
            "text/plain": [
              "0.008655935761906515"
            ]
          },
          "metadata": {
            "tags": []
          },
          "execution_count": 22
        }
      ]
    },
    {
      "cell_type": "code",
      "metadata": {
        "id": "psg3fztRL_0o",
        "colab": {
          "base_uri": "https://localhost:8080/",
          "height": 34
        },
        "outputId": "44dd9a49-6c85-45ce-bdc6-32eb244f08dd"
      },
      "source": [
        "svm_recall"
      ],
      "execution_count": null,
      "outputs": [
        {
          "output_type": "execute_result",
          "data": {
            "text/plain": [
              "0.9791666666666666"
            ]
          },
          "metadata": {
            "tags": []
          },
          "execution_count": 23
        }
      ]
    },
    {
      "cell_type": "code",
      "metadata": {
        "id": "hbjMcM6U4m6_",
        "colab": {
          "base_uri": "https://localhost:8080/",
          "height": 34
        },
        "outputId": "118c69ee-1cf0-4091-ca02-00ac1ed6a582"
      },
      "source": [
        "svm_roc_auc"
      ],
      "execution_count": null,
      "outputs": [
        {
          "output_type": "execute_result",
          "data": {
            "text/plain": [
              "0.534663905996523"
            ]
          },
          "metadata": {
            "tags": []
          },
          "execution_count": 24
        }
      ]
    },
    {
      "cell_type": "code",
      "metadata": {
        "id": "oKVTHiDpiemc"
      },
      "source": [
        ""
      ],
      "execution_count": null,
      "outputs": []
    },
    {
      "cell_type": "code",
      "metadata": {
        "id": "s9794FuOJf0v",
        "colab": {
          "base_uri": "https://localhost:8080/",
          "height": 34
        },
        "outputId": "babd221d-8be3-48a8-ae64-e1ffaf4a3c42"
      },
      "source": [
        "from collections import Counter\n",
        "Counter(y_train)\n",
        "Counter(y_test)"
      ],
      "execution_count": null,
      "outputs": [
        {
          "output_type": "execute_result",
          "data": {
            "text/plain": [
              "Counter({0: 84108, 1: 720})"
            ]
          },
          "metadata": {
            "tags": []
          },
          "execution_count": 25
        }
      ]
    },
    {
      "cell_type": "code",
      "metadata": {
        "id": "Nnlya6FNTt79"
      },
      "source": [
        "# Instantiate\n",
        "svm = SVC(probability = True)\n",
        "# Fit\n",
        "svm_model = svm.fit(X_resampled, y_resampled)\n",
        "\n",
        "svm_model.score(X_resampled, y_resampled)\n",
        "\n",
        "# Predictions/probs on the test dataset\n",
        "predicted = pd.DataFrame(svm_model.predict(x_test))\n",
        "probs = pd.DataFrame(svm_model.predict_proba(x_test))\n",
        "\n",
        "# Store metrics\n",
        "svm_accuracy = metrics.accuracy_score(y_test, predicted)     \n",
        "svm_roc_auc = metrics.roc_auc_score(y_test, probs[1])       \n",
        "svm_confus_matrix = metrics.confusion_matrix(y_test, predicted) \n",
        "svm_classification_report = metrics.classification_report(y_test, predicted)\n",
        "svm_precision = metrics.precision_score(y_test, predicted, pos_label=1)\n",
        "svm_recall = metrics.recall_score(y_test, predicted, pos_label=1)\n",
        "svm_f1 = metrics.f1_score(y_test, predicted, pos_label=1)\n",
        "\n",
        "# Evaluate the model using 10-fold cross-validation \n",
        "svm_cv_scores = cross_val_score(SVC(probability=True), x_test, y_test, scoring='precision', cv=10)\n",
        "svm_cv_mean = np.mean(svm_cv_scores)"
      ],
      "execution_count": null,
      "outputs": []
    },
    {
      "cell_type": "code",
      "metadata": {
        "id": "a5bgHfbSd_z5"
      },
      "source": [
        "svm_confus_matrix"
      ],
      "execution_count": null,
      "outputs": []
    },
    {
      "cell_type": "code",
      "metadata": {
        "id": "T4aCsHAJeZnJ"
      },
      "source": [
        "svm_accuracy"
      ],
      "execution_count": null,
      "outputs": []
    },
    {
      "cell_type": "code",
      "metadata": {
        "id": "zICjp5N-eKP-"
      },
      "source": [
        "svm_recall"
      ],
      "execution_count": null,
      "outputs": []
    },
    {
      "cell_type": "code",
      "metadata": {
        "id": "ug0G9VJXeOLW"
      },
      "source": [
        "svm_roc_auc"
      ],
      "execution_count": null,
      "outputs": []
    },
    {
      "cell_type": "code",
      "metadata": {
        "id": "-hPk1QRyl2p_",
        "colab": {
          "base_uri": "https://localhost:8080/",
          "height": 207
        },
        "outputId": "610b5894-dca0-463e-d856-7c43306ec087"
      },
      "source": [
        "# Instantiate\n",
        "rf = RandomForestClassifier(random_state = 1, max_depth = 15, n_estimators = 700, min_samples_split = 0.5, min_samples_leaf = 0.3,max_features=3)\n",
        "# Fit\n",
        "rf_model = rf.fit(X_train_miss, y_train_miss)\n",
        "\n",
        "rf_model.score(X_train_miss, y_train_miss)\n",
        "\n",
        "# Predictions/probs on the test dataset\n",
        "predicted = pd.DataFrame(rf_model.predict(x_test))\n",
        "probs = pd.DataFrame(rf_model.predict_proba(x_test))\n",
        "\n",
        "# Store metrics\n",
        "rf_accuracy = metrics.accuracy_score(y_test, predicted)     \n",
        "rf_roc_auc = metrics.roc_auc_score(y_test, probs[1])       \n",
        "rf_confus_matrix = metrics.confusion_matrix(y_test, predicted) \n",
        "rf_classification_report = metrics.classification_report(y_test, predicted)\n",
        "rf_precision = metrics.precision_score(y_test, predicted, pos_label=1)\n",
        "rf_recall = metrics.recall_score(y_test, predicted, pos_label=1)\n",
        "rf_f1 = metrics.f1_score(y_test, predicted, pos_label=1)\n",
        "\n",
        "# Evaluate the model using 10-fold cross-validation \n",
        "rf_cv_scores = cross_val_score(RandomForestClassifier(), x_test, y_test, scoring='precision', cv=10)\n",
        "rf_cv_mean = np.mean(rf_cv_scores)"
      ],
      "execution_count": null,
      "outputs": [
        {
          "output_type": "stream",
          "text": [
            "/usr/local/lib/python3.6/dist-packages/sklearn/metrics/_classification.py:1272: UndefinedMetricWarning: Precision is ill-defined and being set to 0.0 due to no predicted samples. Use `zero_division` parameter to control this behavior.\n",
            "  _warn_prf(average, modifier, msg_start, len(result))\n",
            "/usr/local/lib/python3.6/dist-packages/sklearn/metrics/_classification.py:1272: UndefinedMetricWarning: Precision is ill-defined and being set to 0.0 due to no predicted samples. Use `zero_division` parameter to control this behavior.\n",
            "  _warn_prf(average, modifier, msg_start, len(result))\n",
            "/usr/local/lib/python3.6/dist-packages/sklearn/metrics/_classification.py:1272: UndefinedMetricWarning: Precision is ill-defined and being set to 0.0 due to no predicted samples. Use `zero_division` parameter to control this behavior.\n",
            "  _warn_prf(average, modifier, msg_start, len(result))\n",
            "/usr/local/lib/python3.6/dist-packages/sklearn/metrics/_classification.py:1272: UndefinedMetricWarning: Precision is ill-defined and being set to 0.0 due to no predicted samples. Use `zero_division` parameter to control this behavior.\n",
            "  _warn_prf(average, modifier, msg_start, len(result))\n",
            "/usr/local/lib/python3.6/dist-packages/sklearn/metrics/_classification.py:1272: UndefinedMetricWarning: Precision is ill-defined and being set to 0.0 due to no predicted samples. Use `zero_division` parameter to control this behavior.\n",
            "  _warn_prf(average, modifier, msg_start, len(result))\n"
          ],
          "name": "stderr"
        }
      ]
    },
    {
      "cell_type": "code",
      "metadata": {
        "id": "IBIoEf4FngM-",
        "colab": {
          "base_uri": "https://localhost:8080/",
          "height": 51
        },
        "outputId": "ac75012e-f210-4c2c-94b8-e7ebf01099c9"
      },
      "source": [
        "rf_confus_matrix"
      ],
      "execution_count": null,
      "outputs": [
        {
          "output_type": "execute_result",
          "data": {
            "text/plain": [
              "array([[45116, 39010],\n",
              "       [  267,   435]])"
            ]
          },
          "metadata": {
            "tags": []
          },
          "execution_count": 76
        }
      ]
    },
    {
      "cell_type": "code",
      "metadata": {
        "id": "yztWVotQnwQH",
        "colab": {
          "base_uri": "https://localhost:8080/",
          "height": 34
        },
        "outputId": "d3ae7707-8170-4586-fc2f-d7f5db9adf16"
      },
      "source": [
        "rf_recall"
      ],
      "execution_count": null,
      "outputs": [
        {
          "output_type": "execute_result",
          "data": {
            "text/plain": [
              "0.6196581196581197"
            ]
          },
          "metadata": {
            "tags": []
          },
          "execution_count": 81
        }
      ]
    }
  ]
}