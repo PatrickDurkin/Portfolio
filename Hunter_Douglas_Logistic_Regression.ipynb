{
  "nbformat": 4,
  "nbformat_minor": 0,
  "metadata": {
    "colab": {
      "name": "Hunter Douglas Logistic Regression.ipynb",
      "provenance": []
    },
    "kernelspec": {
      "name": "python3",
      "display_name": "Python 3"
    }
  },
  "cells": [
    {
      "cell_type": "code",
      "metadata": {
        "id": "6yBTS3501rCC"
      },
      "source": [
        "\n",
        "import os\n",
        "import pandas as pd\n",
        "import numpy as np\n",
        "import matplotlib.pyplot as plt\n",
        "import seaborn as sns\n",
        "from random import sample\n",
        "from sklearn.linear_model import LogisticRegression\n",
        "from sklearn import tree\n",
        "from sklearn.ensemble import RandomForestClassifier\n",
        "from sklearn.svm import SVC\n",
        "from sklearn.neighbors import KNeighborsClassifier\n",
        "from sklearn.naive_bayes import GaussianNB\n",
        "from sklearn import metrics\n",
        "from sklearn import preprocessing\n",
        "from IPython.display import Image  \n",
        "from pydotplus import graph_from_dot_data\n",
        "\n",
        "from sklearn.linear_model import LogisticRegression\n",
        "from sklearn import datasets\n",
        "from sklearn.preprocessing import StandardScaler\n",
        "from sklearn.model_selection import train_test_split\n",
        "from sklearn.linear_model import LogisticRegression\n",
        "from sklearn.metrics import classification_report\n",
        "from sklearn.metrics import precision_score\n",
        "from sklearn.metrics import recall_score\n",
        "from sklearn.metrics import f1_score\n",
        "from sklearn.datasets import load_breast_cancer\n",
        "from sklearn.model_selection import GridSearchCV\n"
      ],
      "execution_count": null,
      "outputs": []
    },
    {
      "cell_type": "code",
      "metadata": {
        "id": "7gr1-Cy21EJu"
      },
      "source": [
        "import numpy as np\n",
        "import pandas as pd"
      ],
      "execution_count": null,
      "outputs": []
    },
    {
      "cell_type": "code",
      "metadata": {
        "id": "CJTsBdwbzcwF"
      },
      "source": [
        "\n",
        "df = pd.read_csv('/content/drive/My Drive/HunterDouglas-DummyEncoded.2.csv')\n"
      ],
      "execution_count": null,
      "outputs": []
    },
    {
      "cell_type": "code",
      "metadata": {
        "id": "nA-ihe8X1-d6"
      },
      "source": [
        "df1 = df.copy()\n"
      ],
      "execution_count": null,
      "outputs": []
    },
    {
      "cell_type": "code",
      "metadata": {
        "id": "aiylFsb_6fUw"
      },
      "source": [
        "df2 = df.copy() #df2 is REP\n",
        "df3 = df.copy() #df3 is REM"
      ],
      "execution_count": null,
      "outputs": []
    },
    {
      "cell_type": "code",
      "metadata": {
        "id": "Rxb6GwLX2LDz"
      },
      "source": [
        "del df1 ['REM_Order']\n",
        "del df1 ['REP_Order']"
      ],
      "execution_count": null,
      "outputs": []
    },
    {
      "cell_type": "code",
      "metadata": {
        "id": "2pVrS_L66ge4"
      },
      "source": [
        "del df2 ['flagged_Order']\n",
        "del df2 ['REM_Order']"
      ],
      "execution_count": null,
      "outputs": []
    },
    {
      "cell_type": "code",
      "metadata": {
        "id": "RCI8jJbL6kKw"
      },
      "source": [
        "del df3 ['flagged_Order']"
      ],
      "execution_count": null,
      "outputs": []
    },
    {
      "cell_type": "code",
      "metadata": {
        "id": "5cJTUkFQI3td"
      },
      "source": [
        "del df3 ['REP_Order']"
      ],
      "execution_count": null,
      "outputs": []
    },
    {
      "cell_type": "code",
      "metadata": {
        "id": "VJlRJssqHE_x"
      },
      "source": [
        "del df1['combinedLines']\n",
        "del df2['combinedLines']\n",
        "del df3['combinedLines']\n",
        "del df1['combinedSalesLines']\n",
        "del df2['combinedSalesLines']\n",
        "del df3['combinedSalesLines']\n",
        "del df1['OPERATING_SYS_OPT_ID']\n",
        "del df2['OPERATING_SYS_OPT_ID']\n",
        "del df3['OPERATING_SYS_OPT_ID']\n",
        "del df1['Area']\n",
        "del df2['Area']\n",
        "del df3['Area']\n",
        "del df1['REGIONAL_SALES_MGR_ID']\n",
        "del df2['REGIONAL_SALES_MGR_ID']\n",
        "del df3['REGIONAL_SALES_MGR_ID']"
      ],
      "execution_count": null,
      "outputs": []
    },
    {
      "cell_type": "code",
      "metadata": {
        "id": "ZejzJ9oA0GZA"
      },
      "source": [
        ""
      ],
      "execution_count": null,
      "outputs": []
    },
    {
      "cell_type": "code",
      "metadata": {
        "id": "l4yt-mk162Z3"
      },
      "source": [
        "df2.head()\n",
        "df2['REGION_STATE_ID'] = df2['REGION_STATE_ID'].astype(object)\n",
        "df2['FABRIC_ID'] = df2['FABRIC_ID'].astype(object)\n",
        "df2['HEIGHT'] = df2['HEIGHT'].astype(object)\n",
        "df2['COLOR_ID'] = df2['COLOR_ID'].astype(object)\n",
        "df2['ORIGINAL_MATERIAL_ID'] = df2['ORIGINAL_MATERIAL_ID'].astype(object)\n",
        "df2['OPERATING_SYSTEM_ID'] = df2['OPERATING_SYSTEM_ID'].astype(object)\n",
        "df2['Day'] = df2['Day'].astype(object)\n",
        "df2['Month'] = df2['Month'].astype(object)\n",
        "\n"
      ],
      "execution_count": null,
      "outputs": []
    },
    {
      "cell_type": "code",
      "metadata": {
        "id": "CaO00rdjImbm"
      },
      "source": [
        "df3.head()\n",
        "df3['REGION_STATE_ID'] = df3['REGION_STATE_ID'].astype(object)\n",
        "df3['FABRIC_ID'] = df3['FABRIC_ID'].astype(object)\n",
        "df3['HEIGHT'] = df3['HEIGHT'].astype(object)\n",
        "df3['COLOR_ID'] = df3['COLOR_ID'].astype(object)\n",
        "df3['ORIGINAL_MATERIAL_ID'] = df3['ORIGINAL_MATERIAL_ID'].astype(object)\n",
        "df3['OPERATING_SYSTEM_ID'] = df3['OPERATING_SYSTEM_ID'].astype(object)\n",
        "df3['Day'] = df3['Day'].astype(object)\n",
        "df3['Month'] = df3['Month'].astype(object)"
      ],
      "execution_count": null,
      "outputs": []
    },
    {
      "cell_type": "code",
      "metadata": {
        "id": "FsRgj9GEzUtL",
        "colab": {
          "base_uri": "https://localhost:8080/",
          "height": 51
        },
        "outputId": "ee85b652-d452-43c3-a3b4-6f4b7a6e9925"
      },
      "source": [
        "\n",
        "\n",
        "# Randomly, split the data into test/training/validation sets\n",
        "train, test, validate = np.split(df2.sample(frac=1), [int(.6*len(df1)), int(.8*len(df1))])\n",
        "print (train.shape, test.shape, validate.shape)\n",
        "# (8999, 20) (3000, 20) (3000, 20)\n",
        "\n",
        "# Separate target and predictors\n",
        "y_train = train['REP_Order']\n",
        "x_train = train.drop(['REP_Order'], axis=1)\n",
        "y_test = test['REP_Order']\n",
        "x_test = test.drop(['REP_Order'], axis=1)\n",
        "y_validate = validate['REP_Order']\n",
        "x_validate = validate.drop(['REP_Order'], axis=1)\n",
        "\n",
        "# Check the balance of the splits on y_\n",
        "y_test.mean()\n",
        "\n",
        "y_train.mean()\n",
        "\n",
        "\n",
        "\n",
        "\n",
        "\n"
      ],
      "execution_count": null,
      "outputs": [
        {
          "output_type": "stream",
          "text": [
            "(458546, 13) (152849, 13) (152849, 13)\n"
          ],
          "name": "stdout"
        },
        {
          "output_type": "execute_result",
          "data": {
            "text/plain": [
              "0.0032101468554954138"
            ]
          },
          "metadata": {
            "tags": []
          },
          "execution_count": 13
        }
      ]
    },
    {
      "cell_type": "code",
      "metadata": {
        "id": "k6MQzAzH7xHR",
        "colab": {
          "base_uri": "https://localhost:8080/",
          "height": 34
        },
        "outputId": "50315f2d-7514-4bcd-e546-82531bb029d1"
      },
      "source": [
        "y_test.mean()"
      ],
      "execution_count": null,
      "outputs": [
        {
          "output_type": "execute_result",
          "data": {
            "text/plain": [
              "0.003238490274715569"
            ]
          },
          "metadata": {
            "tags": []
          },
          "execution_count": 14
        }
      ]
    },
    {
      "cell_type": "code",
      "metadata": {
        "id": "l4sTIaUN7v8u",
        "colab": {
          "base_uri": "https://localhost:8080/",
          "height": 34
        },
        "outputId": "e40a605f-e2f0-4880-a9fc-b89b62134e97"
      },
      "source": [
        "y_train.mean()"
      ],
      "execution_count": null,
      "outputs": [
        {
          "output_type": "execute_result",
          "data": {
            "text/plain": [
              "0.0032101468554954138"
            ]
          },
          "metadata": {
            "tags": []
          },
          "execution_count": 15
        }
      ]
    },
    {
      "cell_type": "code",
      "metadata": {
        "id": "yq7jtcnI2wc0",
        "colab": {
          "base_uri": "https://localhost:8080/",
          "height": 71
        },
        "outputId": "3b5b29bb-7730-4dbf-f639-54b9eaa859db"
      },
      "source": [
        "rf = RandomForestClassifier()\n",
        "rf.fit(x_train, y_train)\n",
        "print (\"Features sorted by their score:\")\n",
        "print (sorted(zip(map(lambda x: round(x, 4), rf.feature_importances_), x_train), reverse=True))\n"
      ],
      "execution_count": null,
      "outputs": [
        {
          "output_type": "stream",
          "text": [
            "Features sorted by their score:\n",
            "[(0.1956, 'FABRIC_ID'), (0.1813, 'COLOR_ID'), (0.138, 'WIDTH'), (0.1252, 'HEIGHT'), (0.1032, 'Day'), (0.0945, 'REGION_STATE_ID'), (0.0745, 'Month'), (0.0547, 'ORIGINAL_MATERIAL_ID'), (0.0239, 'OPERATING_SYSTEM_ID'), (0.0049, 'USA'), (0.0043, 'Canada'), (0.0, 'Year')]\n"
          ],
          "name": "stdout"
        }
      ]
    },
    {
      "cell_type": "code",
      "metadata": {
        "id": "uIrjk1Pp4TBH"
      },
      "source": [
        "all_vars = x_train.columns.tolist()\n",
        "top_6_vars = ['WIDTH', 'HEIGHT', 'DAY', 'COLOR_ID', 'MONTH','FABRIC_ID','Day','Month','ORIGINAL_MATERIAL_ID','OPERATING_SYSTEM_ID']\n",
        "bottom_vars = [cols for cols in all_vars if cols not in top_6_vars]\n",
        "\n",
        "#Drop less important variables leaving the top_6\n",
        "x_train    = x_train.drop(bottom_vars, axis=1)\n",
        "x_test     = x_test.drop(bottom_vars, axis=1)\n",
        "x_validate = x_validate.drop(bottom_vars, axis=1)"
      ],
      "execution_count": null,
      "outputs": []
    },
    {
      "cell_type": "code",
      "metadata": {
        "id": "AtvBYL9A5WKm"
      },
      "source": [
        "#scaler = StandardScaler()\n",
        "#x_train = scaler.fit_transform(x_train)\n",
        "#x_test = scaler.fit_transform(x_test)\n",
        "#x_validate = scaler.fit_transform(x_validate)"
      ],
      "execution_count": null,
      "outputs": []
    },
    {
      "cell_type": "code",
      "metadata": {
        "id": "UEBCG37e2mJ3",
        "colab": {
          "base_uri": "https://localhost:8080/",
          "height": 34
        },
        "outputId": "f9ce9c53-3d8b-44d8-9191-b0f617f2396b"
      },
      "source": [
        "# Instantiate\n",
        "logit_model = LogisticRegression(random_state = 0, class_weight='balanced', max_iter=100000)\n",
        "# Fit\n",
        "logit_model = logit_model.fit(x_train, y_train)\n",
        "# How accurate?\n",
        "logit_model.score(x_train, y_train)\n",
        "#0.7874\n",
        "\n",
        "# How does it perform on the test dataset?\n",
        "\n",
        "# Predictions on the test dataset\n",
        "predicted = pd.DataFrame(logit_model.predict(x_test))\n",
        "# Probabilities on the test dataset\n",
        "probs = pd.DataFrame(logit_model.predict_proba(x_test))\n",
        "print (metrics.accuracy_score(y_test, predicted))\n"
      ],
      "execution_count": null,
      "outputs": [
        {
          "output_type": "stream",
          "text": [
            "0.642994066039032\n"
          ],
          "name": "stdout"
        }
      ]
    },
    {
      "cell_type": "code",
      "metadata": {
        "id": "Jx6ybnXG2f6-",
        "colab": {
          "base_uri": "https://localhost:8080/",
          "height": 204
        },
        "outputId": "89c328af-78f3-4472-e9b3-c2908c5fa5da"
      },
      "source": [
        "print (metrics.confusion_matrix(y_test, predicted))\n",
        "print (metrics.classification_report(y_test, predicted))"
      ],
      "execution_count": null,
      "outputs": [
        {
          "output_type": "stream",
          "text": [
            "[[97968 54386]\n",
            " [  182   313]]\n",
            "              precision    recall  f1-score   support\n",
            "\n",
            "           0       1.00      0.64      0.78    152354\n",
            "           1       0.01      0.63      0.01       495\n",
            "\n",
            "    accuracy                           0.64    152849\n",
            "   macro avg       0.50      0.64      0.40    152849\n",
            "weighted avg       0.99      0.64      0.78    152849\n",
            "\n"
          ],
          "name": "stdout"
        }
      ]
    },
    {
      "cell_type": "code",
      "metadata": {
        "id": "OXhnSyLXBhK1"
      },
      "source": [
        "penalty = ['l2']\n",
        "C = np.logspace(0, 4, 10)\n",
        "hyperparameters = dict(C=C, penalty=penalty)"
      ],
      "execution_count": null,
      "outputs": []
    },
    {
      "cell_type": "code",
      "metadata": {
        "id": "PC5DU9GwBhjP"
      },
      "source": [
        "lr = LogisticRegression(random_state = 0,class_weight='balanced', max_iter=100000)\n",
        "clf = GridSearchCV(lr, hyperparameters, cv=5, verbose=0, scoring='recall')"
      ],
      "execution_count": null,
      "outputs": []
    },
    {
      "cell_type": "code",
      "metadata": {
        "id": "_c4PTokEC8ez",
        "colab": {
          "base_uri": "https://localhost:8080/",
          "height": 51
        },
        "outputId": "46438f3b-24b4-45d4-b15d-4053e67068af"
      },
      "source": [
        "best_model = clf.fit(x_train, y_train)\n",
        "print('Best Penalty:', best_model.best_estimator_.get_params()['penalty'])\n",
        "print('Best C:', round(best_model.best_estimator_.get_params()['C'],2))"
      ],
      "execution_count": null,
      "outputs": [
        {
          "output_type": "stream",
          "text": [
            "Best Penalty: l2\n",
            "Best C: 7.74\n"
          ],
          "name": "stdout"
        }
      ]
    },
    {
      "cell_type": "code",
      "metadata": {
        "id": "is1M3pk_DPq5"
      },
      "source": [
        "y_pred_gs = pd.DataFrame(best_model.predict(x_test))\n",
        "y_probs_gs = pd.DataFrame(best_model.predict_proba(x_test))"
      ],
      "execution_count": null,
      "outputs": []
    },
    {
      "cell_type": "code",
      "metadata": {
        "id": "LQX0108EEpHV",
        "colab": {
          "base_uri": "https://localhost:8080/",
          "height": 34
        },
        "outputId": "74e50267-b047-423d-cc20-122fb07a425e"
      },
      "source": [
        "print (metrics.accuracy_score(y_test, y_pred_gs ))"
      ],
      "execution_count": null,
      "outputs": [
        {
          "output_type": "stream",
          "text": [
            "0.6682215781588365\n"
          ],
          "name": "stdout"
        }
      ]
    },
    {
      "cell_type": "code",
      "metadata": {
        "id": "7UeIgqi6E93G",
        "colab": {
          "base_uri": "https://localhost:8080/",
          "height": 204
        },
        "outputId": "e2ed6bcd-15ee-4087-c92e-d77c83662356"
      },
      "source": [
        "print (metrics.confusion_matrix(y_test, y_pred_gs))\n",
        "print (metrics.classification_report(y_test, y_pred_gs))"
      ],
      "execution_count": null,
      "outputs": [
        {
          "output_type": "stream",
          "text": [
            "[[101836  50518]\n",
            " [   194    301]]\n",
            "              precision    recall  f1-score   support\n",
            "\n",
            "           0       1.00      0.67      0.80    152354\n",
            "           1       0.01      0.61      0.01       495\n",
            "\n",
            "    accuracy                           0.67    152849\n",
            "   macro avg       0.50      0.64      0.41    152849\n",
            "weighted avg       0.99      0.67      0.80    152849\n",
            "\n"
          ],
          "name": "stdout"
        }
      ]
    },
    {
      "cell_type": "code",
      "metadata": {
        "id": "oAxR0bAU6Y4t",
        "colab": {
          "base_uri": "https://localhost:8080/",
          "height": 51
        },
        "outputId": "262d4dff-a34f-43c5-c306-ad5c02726bfd"
      },
      "source": [
        "\n",
        "# Randomly, split the data into test/training/validation sets\n",
        "train, test, validate = np.split(df3.sample(frac=1), [int(.6*len(df2)), int(.8*len(df2))])\n",
        "print (train.shape, test.shape, validate.shape)\n",
        "# (8999, 20) (3000, 20) (3000, 20)\n",
        "\n",
        "# Separate target and predictors\n",
        "y_train = train['REM_Order']\n",
        "x_train = train.drop(['REM_Order'], axis=1)\n",
        "y_test = test['REM_Order']\n",
        "x_test = test.drop(['REM_Order'], axis=1)\n",
        "y_validate = validate['REM_Order']\n",
        "x_validate = validate.drop(['REM_Order'], axis=1)\n",
        "\n",
        "# Check the balance of the splits on y_\n",
        "y_test.mean()\n",
        "\n",
        "y_train.mean()\n",
        "\n",
        "\n",
        "\n",
        "\n"
      ],
      "execution_count": null,
      "outputs": [
        {
          "output_type": "stream",
          "text": [
            "(458546, 13) (152849, 13) (152849, 13)\n"
          ],
          "name": "stdout"
        },
        {
          "output_type": "execute_result",
          "data": {
            "text/plain": [
              "0.05412325044815569"
            ]
          },
          "metadata": {
            "tags": []
          },
          "execution_count": 27
        }
      ]
    },
    {
      "cell_type": "code",
      "metadata": {
        "id": "nAZSKGqOZAPk",
        "colab": {
          "base_uri": "https://localhost:8080/",
          "height": 34
        },
        "outputId": "8dda87df-b086-4037-db23-93d82a30d791"
      },
      "source": [
        "y_test.mean()"
      ],
      "execution_count": null,
      "outputs": [
        {
          "output_type": "execute_result",
          "data": {
            "text/plain": [
              "0.05453094230253387"
            ]
          },
          "metadata": {
            "tags": []
          },
          "execution_count": 28
        }
      ]
    },
    {
      "cell_type": "code",
      "metadata": {
        "id": "ZiBKKQ4dZB-m",
        "colab": {
          "base_uri": "https://localhost:8080/",
          "height": 34
        },
        "outputId": "66b8ebd9-0cab-4a78-ac61-f544f48230dc"
      },
      "source": [
        "y_train.mean()"
      ],
      "execution_count": null,
      "outputs": [
        {
          "output_type": "execute_result",
          "data": {
            "text/plain": [
              "0.05412325044815569"
            ]
          },
          "metadata": {
            "tags": []
          },
          "execution_count": 29
        }
      ]
    },
    {
      "cell_type": "code",
      "metadata": {
        "id": "IqBS8jcINHe4",
        "colab": {
          "base_uri": "https://localhost:8080/",
          "height": 34
        },
        "outputId": "ad42e47f-da9d-41e9-eb65-924b3e5e8306"
      },
      "source": [
        "# Instantiate\n",
        "logit_model = LogisticRegression(random_state = 0,class_weight='balanced', max_iter=100000)\n",
        "# Fit\n",
        "logit_model = logit_model.fit(x_train, y_train)\n",
        "# How accurate?\n",
        "logit_model.score(x_train, y_train)\n",
        "#0.7874\n",
        "\n",
        "# How does it perform on the test dataset?\n",
        "\n",
        "# Predictions on the test dataset\n",
        "predicted = pd.DataFrame(logit_model.predict(x_test))\n",
        "# Probabilities on the test dataset\n",
        "probs = pd.DataFrame(logit_model.predict_proba(x_test))\n",
        "print (metrics.accuracy_score(y_test, predicted))"
      ],
      "execution_count": null,
      "outputs": [
        {
          "output_type": "stream",
          "text": [
            "0.6103736367264424\n"
          ],
          "name": "stdout"
        }
      ]
    },
    {
      "cell_type": "code",
      "metadata": {
        "id": "0na-lOFsOzar",
        "colab": {
          "base_uri": "https://localhost:8080/",
          "height": 419
        },
        "outputId": "643fd1a1-fdde-4b87-b3a7-15aa46e1b40d"
      },
      "source": [
        "probs"
      ],
      "execution_count": null,
      "outputs": [
        {
          "output_type": "execute_result",
          "data": {
            "text/html": [
              "<div>\n",
              "<style scoped>\n",
              "    .dataframe tbody tr th:only-of-type {\n",
              "        vertical-align: middle;\n",
              "    }\n",
              "\n",
              "    .dataframe tbody tr th {\n",
              "        vertical-align: top;\n",
              "    }\n",
              "\n",
              "    .dataframe thead th {\n",
              "        text-align: right;\n",
              "    }\n",
              "</style>\n",
              "<table border=\"1\" class=\"dataframe\">\n",
              "  <thead>\n",
              "    <tr style=\"text-align: right;\">\n",
              "      <th></th>\n",
              "      <th>0</th>\n",
              "      <th>1</th>\n",
              "    </tr>\n",
              "  </thead>\n",
              "  <tbody>\n",
              "    <tr>\n",
              "      <th>0</th>\n",
              "      <td>0.198423</td>\n",
              "      <td>0.801577</td>\n",
              "    </tr>\n",
              "    <tr>\n",
              "      <th>1</th>\n",
              "      <td>0.630243</td>\n",
              "      <td>0.369757</td>\n",
              "    </tr>\n",
              "    <tr>\n",
              "      <th>2</th>\n",
              "      <td>0.613465</td>\n",
              "      <td>0.386535</td>\n",
              "    </tr>\n",
              "    <tr>\n",
              "      <th>3</th>\n",
              "      <td>0.291028</td>\n",
              "      <td>0.708972</td>\n",
              "    </tr>\n",
              "    <tr>\n",
              "      <th>4</th>\n",
              "      <td>0.313812</td>\n",
              "      <td>0.686188</td>\n",
              "    </tr>\n",
              "    <tr>\n",
              "      <th>...</th>\n",
              "      <td>...</td>\n",
              "      <td>...</td>\n",
              "    </tr>\n",
              "    <tr>\n",
              "      <th>152844</th>\n",
              "      <td>0.382293</td>\n",
              "      <td>0.617707</td>\n",
              "    </tr>\n",
              "    <tr>\n",
              "      <th>152845</th>\n",
              "      <td>0.614940</td>\n",
              "      <td>0.385060</td>\n",
              "    </tr>\n",
              "    <tr>\n",
              "      <th>152846</th>\n",
              "      <td>0.466351</td>\n",
              "      <td>0.533649</td>\n",
              "    </tr>\n",
              "    <tr>\n",
              "      <th>152847</th>\n",
              "      <td>0.567492</td>\n",
              "      <td>0.432508</td>\n",
              "    </tr>\n",
              "    <tr>\n",
              "      <th>152848</th>\n",
              "      <td>0.676487</td>\n",
              "      <td>0.323513</td>\n",
              "    </tr>\n",
              "  </tbody>\n",
              "</table>\n",
              "<p>152849 rows × 2 columns</p>\n",
              "</div>"
            ],
            "text/plain": [
              "               0         1\n",
              "0       0.198423  0.801577\n",
              "1       0.630243  0.369757\n",
              "2       0.613465  0.386535\n",
              "3       0.291028  0.708972\n",
              "4       0.313812  0.686188\n",
              "...          ...       ...\n",
              "152844  0.382293  0.617707\n",
              "152845  0.614940  0.385060\n",
              "152846  0.466351  0.533649\n",
              "152847  0.567492  0.432508\n",
              "152848  0.676487  0.323513\n",
              "\n",
              "[152849 rows x 2 columns]"
            ]
          },
          "metadata": {
            "tags": []
          },
          "execution_count": 45
        }
      ]
    },
    {
      "cell_type": "code",
      "metadata": {
        "id": "zynIjZXW7lDz",
        "colab": {
          "base_uri": "https://localhost:8080/",
          "height": 204
        },
        "outputId": "7630010f-f71b-4c1f-fb11-962aa7e0ffba"
      },
      "source": [
        "print (metrics.confusion_matrix(y_test, predicted))\n",
        "print (metrics.classification_report(y_test, predicted))"
      ],
      "execution_count": null,
      "outputs": [
        {
          "output_type": "stream",
          "text": [
            "[[88629 55885]\n",
            " [ 3669  4666]]\n",
            "              precision    recall  f1-score   support\n",
            "\n",
            "           0       0.96      0.61      0.75    144514\n",
            "           1       0.08      0.56      0.14      8335\n",
            "\n",
            "    accuracy                           0.61    152849\n",
            "   macro avg       0.52      0.59      0.44    152849\n",
            "weighted avg       0.91      0.61      0.72    152849\n",
            "\n"
          ],
          "name": "stdout"
        }
      ]
    }
  ]
}